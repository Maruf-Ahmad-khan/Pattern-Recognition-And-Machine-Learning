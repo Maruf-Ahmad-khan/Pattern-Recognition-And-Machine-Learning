{
 "cells": [
  {
   "cell_type": "markdown",
   "metadata": {},
   "source": [
    "# Github : https://github.com/Maruf-Ahmad-khan/Pattern-Recognition-And-Machine-Learning/blob/main/Statistics%20and%20missing%20value%20Imputation.ipynb\n",
    "\n",
    "# LinkedIn: https://www.linkedin.com/in/maruf-khan-1516a4224/"
   ]
  },
  {
   "cell_type": "code",
   "execution_count": 1,
   "metadata": {},
   "outputs": [
    {
     "name": "stdout",
     "output_type": "stream",
     "text": [
      "Shape of data (205, 3)\n"
     ]
    },
    {
     "data": {
      "text/html": [
       "<div>\n",
       "<style scoped>\n",
       "    .dataframe tbody tr th:only-of-type {\n",
       "        vertical-align: middle;\n",
       "    }\n",
       "\n",
       "    .dataframe tbody tr th {\n",
       "        vertical-align: top;\n",
       "    }\n",
       "\n",
       "    .dataframe thead th {\n",
       "        text-align: right;\n",
       "    }\n",
       "</style>\n",
       "<table border=\"1\" class=\"dataframe\">\n",
       "  <thead>\n",
       "    <tr style=\"text-align: right;\">\n",
       "      <th></th>\n",
       "      <th>Height</th>\n",
       "      <th>Weight</th>\n",
       "      <th>Sex</th>\n",
       "    </tr>\n",
       "  </thead>\n",
       "  <tbody>\n",
       "    <tr>\n",
       "      <th>0</th>\n",
       "      <td>146.323241</td>\n",
       "      <td>59.861065</td>\n",
       "      <td>Female</td>\n",
       "    </tr>\n",
       "    <tr>\n",
       "      <th>1</th>\n",
       "      <td>175.695412</td>\n",
       "      <td>77.863687</td>\n",
       "      <td>Male</td>\n",
       "    </tr>\n",
       "    <tr>\n",
       "      <th>2</th>\n",
       "      <td>183.216164</td>\n",
       "      <td>72.131992</td>\n",
       "      <td>Male</td>\n",
       "    </tr>\n",
       "    <tr>\n",
       "      <th>3</th>\n",
       "      <td>184.245269</td>\n",
       "      <td>77.546000</td>\n",
       "      <td>Male</td>\n",
       "    </tr>\n",
       "    <tr>\n",
       "      <th>4</th>\n",
       "      <td>132.302261</td>\n",
       "      <td>55.188496</td>\n",
       "      <td>Female</td>\n",
       "    </tr>\n",
       "  </tbody>\n",
       "</table>\n",
       "</div>"
      ],
      "text/plain": [
       "       Height     Weight     Sex\n",
       "0  146.323241  59.861065  Female\n",
       "1  175.695412  77.863687    Male\n",
       "2  183.216164  72.131992    Male\n",
       "3  184.245269  77.546000    Male\n",
       "4  132.302261  55.188496  Female"
      ]
     },
     "execution_count": 1,
     "metadata": {},
     "output_type": "execute_result"
    }
   ],
   "source": [
    "# Load the dataset \n",
    "import pandas as pd\n",
    "data_file = r\"C:\\InhouseInternship\\majorproject7\\Test set.csv\"\n",
    "df = pd.read_csv(data_file)\n",
    "print(\"Shape of data\", df.shape)\n",
    "df.head()"
   ]
  },
  {
   "cell_type": "markdown",
   "metadata": {},
   "source": [
    "# Handling missing values for Numerical and Categorical features and also performing  encoding for categorical features"
   ]
  },
  {
   "cell_type": "code",
   "execution_count": 2,
   "metadata": {},
   "outputs": [
    {
     "name": "stdout",
     "output_type": "stream",
     "text": [
      "The numerical Features are: \n"
     ]
    },
    {
     "data": {
      "text/html": [
       "<div>\n",
       "<style scoped>\n",
       "    .dataframe tbody tr th:only-of-type {\n",
       "        vertical-align: middle;\n",
       "    }\n",
       "\n",
       "    .dataframe tbody tr th {\n",
       "        vertical-align: top;\n",
       "    }\n",
       "\n",
       "    .dataframe thead th {\n",
       "        text-align: right;\n",
       "    }\n",
       "</style>\n",
       "<table border=\"1\" class=\"dataframe\">\n",
       "  <thead>\n",
       "    <tr style=\"text-align: right;\">\n",
       "      <th></th>\n",
       "      <th>Height</th>\n",
       "      <th>Weight</th>\n",
       "    </tr>\n",
       "  </thead>\n",
       "  <tbody>\n",
       "    <tr>\n",
       "      <th>0</th>\n",
       "      <td>146.323241</td>\n",
       "      <td>59.861065</td>\n",
       "    </tr>\n",
       "    <tr>\n",
       "      <th>1</th>\n",
       "      <td>175.695412</td>\n",
       "      <td>77.863687</td>\n",
       "    </tr>\n",
       "    <tr>\n",
       "      <th>2</th>\n",
       "      <td>183.216164</td>\n",
       "      <td>72.131992</td>\n",
       "    </tr>\n",
       "    <tr>\n",
       "      <th>3</th>\n",
       "      <td>184.245269</td>\n",
       "      <td>77.546000</td>\n",
       "    </tr>\n",
       "    <tr>\n",
       "      <th>4</th>\n",
       "      <td>132.302261</td>\n",
       "      <td>55.188496</td>\n",
       "    </tr>\n",
       "    <tr>\n",
       "      <th>...</th>\n",
       "      <td>...</td>\n",
       "      <td>...</td>\n",
       "    </tr>\n",
       "    <tr>\n",
       "      <th>200</th>\n",
       "      <td>155.090314</td>\n",
       "      <td>77.248911</td>\n",
       "    </tr>\n",
       "    <tr>\n",
       "      <th>201</th>\n",
       "      <td>149.175907</td>\n",
       "      <td>93.231692</td>\n",
       "    </tr>\n",
       "    <tr>\n",
       "      <th>202</th>\n",
       "      <td>168.030874</td>\n",
       "      <td>63.640623</td>\n",
       "    </tr>\n",
       "    <tr>\n",
       "      <th>203</th>\n",
       "      <td>172.608090</td>\n",
       "      <td>55.189983</td>\n",
       "    </tr>\n",
       "    <tr>\n",
       "      <th>204</th>\n",
       "      <td>145.082128</td>\n",
       "      <td>45.583285</td>\n",
       "    </tr>\n",
       "  </tbody>\n",
       "</table>\n",
       "<p>205 rows × 2 columns</p>\n",
       "</div>"
      ],
      "text/plain": [
       "         Height     Weight\n",
       "0    146.323241  59.861065\n",
       "1    175.695412  77.863687\n",
       "2    183.216164  72.131992\n",
       "3    184.245269  77.546000\n",
       "4    132.302261  55.188496\n",
       "..          ...        ...\n",
       "200  155.090314  77.248911\n",
       "201  149.175907  93.231692\n",
       "202  168.030874  63.640623\n",
       "203  172.608090  55.189983\n",
       "204  145.082128  45.583285\n",
       "\n",
       "[205 rows x 2 columns]"
      ]
     },
     "execution_count": 2,
     "metadata": {},
     "output_type": "execute_result"
    }
   ],
   "source": [
    "class Missing_values_Imputation:\n",
    "     \n",
    "     def __init__(self, df):\n",
    "          self.df = df\n",
    "          \n",
    "     def Numeric_Features(self):\n",
    "          return self.df.select_dtypes(include = 'number') \n",
    "     \n",
    "     def Missing_values(self):\n",
    "          return self.df.isna().sum()\n",
    "     \n",
    "     def Min_Max(self):\n",
    "          return  self.df.describe().loc[['max', 'min'], :]\n",
    "\n",
    "     \n",
    "     \n",
    "\n",
    "data_file = r\"C:\\InhouseInternship\\majorproject7\\Test set.csv\"\n",
    "df = pd.read_csv(data_file) \n",
    "obj = Missing_values_Imputation(df)\n",
    "print(\"The numerical Features are: \")\n",
    "obj.Numeric_Features()   \n",
    "     "
   ]
  },
  {
   "cell_type": "code",
   "execution_count": 3,
   "metadata": {},
   "outputs": [
    {
     "name": "stdout",
     "output_type": "stream",
     "text": [
      "Show if there is missing values: \n"
     ]
    },
    {
     "data": {
      "text/plain": [
       "Height    0\n",
       "Weight    0\n",
       "Sex       0\n",
       "dtype: int64"
      ]
     },
     "execution_count": 3,
     "metadata": {},
     "output_type": "execute_result"
    }
   ],
   "source": [
    "print(\"Show if there is missing values: \")\n",
    "obj.Missing_values()"
   ]
  },
  {
   "cell_type": "code",
   "execution_count": 4,
   "metadata": {},
   "outputs": [
    {
     "name": "stdout",
     "output_type": "stream",
     "text": [
      "Display Min and Max Values:\n"
     ]
    },
    {
     "data": {
      "text/html": [
       "<div>\n",
       "<style scoped>\n",
       "    .dataframe tbody tr th:only-of-type {\n",
       "        vertical-align: middle;\n",
       "    }\n",
       "\n",
       "    .dataframe tbody tr th {\n",
       "        vertical-align: top;\n",
       "    }\n",
       "\n",
       "    .dataframe thead th {\n",
       "        text-align: right;\n",
       "    }\n",
       "</style>\n",
       "<table border=\"1\" class=\"dataframe\">\n",
       "  <thead>\n",
       "    <tr style=\"text-align: right;\">\n",
       "      <th></th>\n",
       "      <th>Height</th>\n",
       "      <th>Weight</th>\n",
       "    </tr>\n",
       "  </thead>\n",
       "  <tbody>\n",
       "    <tr>\n",
       "      <th>max</th>\n",
       "      <td>199.282251</td>\n",
       "      <td>129.410122</td>\n",
       "    </tr>\n",
       "    <tr>\n",
       "      <th>min</th>\n",
       "      <td>123.007006</td>\n",
       "      <td>34.726666</td>\n",
       "    </tr>\n",
       "  </tbody>\n",
       "</table>\n",
       "</div>"
      ],
      "text/plain": [
       "         Height      Weight\n",
       "max  199.282251  129.410122\n",
       "min  123.007006   34.726666"
      ]
     },
     "execution_count": 4,
     "metadata": {},
     "output_type": "execute_result"
    }
   ],
   "source": [
    "print(\"Display Min and Max Values:\")\n",
    "obj.Min_Max()"
   ]
  },
  {
   "cell_type": "code",
   "execution_count": 5,
   "metadata": {},
   "outputs": [
    {
     "name": "stderr",
     "output_type": "stream",
     "text": [
      "2024-09-25 08:22:33,844 - INFO - Loading data from C:/InhouseInternship/majorproject7/Test set.csv\n",
      "2024-09-25 08:22:33,848 - INFO - Numerical columns: ['Height', 'Weight']\n",
      "2024-09-25 08:22:33,849 - INFO - Categorical columns: ['Sex']\n",
      "2024-09-25 08:22:33,850 - INFO - Building pipeline for numerical data.\n",
      "2024-09-25 08:22:33,851 - INFO - Building pipeline for categorical data.\n",
      "2024-09-25 08:22:33,852 - INFO - Preprocessing numerical columns.\n",
      "2024-09-25 08:22:33,860 - INFO - Preprocessing categorical columns.\n",
      "2024-09-25 08:22:33,866 - INFO - Concatenating preprocessed numerical and categorical data.\n"
     ]
    }
   ],
   "source": [
    "import pandas as pd\n",
    "import numpy as np\n",
    "import logging\n",
    "from sklearn.preprocessing import StandardScaler, OneHotEncoder\n",
    "from sklearn.impute import SimpleImputer\n",
    "from sklearn.pipeline import Pipeline\n",
    "from sklearn.exceptions import NotFittedError\n",
    "\n",
    "# Set up logging\n",
    "logging.basicConfig(level=logging.INFO, format='%(asctime)s - %(levelname)s - %(message)s')\n",
    "\n",
    "class Imputations:\n",
    "    \"\"\"\n",
    "    Class for handling missing data and preprocessing using pipelines for both numerical and categorical features.\n",
    "\n",
    "    Attributes:\n",
    "        df (pd.DataFrame): The input data frame to be preprocessed.\n",
    "    \"\"\"\n",
    "    def __init__(self, df):\n",
    "        \"\"\"\n",
    "        Initializes the Imputations object with the dataframe.\n",
    "\n",
    "        Args:\n",
    "            df (pd.DataFrame): The dataframe containing the dataset.\n",
    "        \"\"\"\n",
    "        self.df = df\n",
    "\n",
    "    def _build_num_pipeline(self):\n",
    "        \"\"\"\n",
    "        Private method to build a pipeline for numerical data preprocessing.\n",
    "        Includes missing value imputation and feature scaling.\n",
    "\n",
    "        Returns:\n",
    "            Pipeline: A scikit-learn pipeline for numerical data.\n",
    "        \"\"\"\n",
    "        logging.info(\"Building pipeline for numerical data.\")\n",
    "        return Pipeline(steps=[\n",
    "            ('imputer', SimpleImputer(strategy='most_frequent')),\n",
    "            ('scaler', StandardScaler())\n",
    "        ])\n",
    "\n",
    "    def _build_cat_pipeline(self):\n",
    "        \"\"\"\n",
    "        Private method to build a pipeline for categorical data preprocessing.\n",
    "        Includes missing value imputation and one-hot encoding.\n",
    "\n",
    "        Returns:\n",
    "            Pipeline: A scikit-learn pipeline for categorical data.\n",
    "        \"\"\"\n",
    "        logging.info(\"Building pipeline for categorical data.\")\n",
    "        return Pipeline(steps=[\n",
    "            ('imputer', SimpleImputer(strategy='most_frequent')),\n",
    "            ('encoder', OneHotEncoder(handle_unknown='ignore', sparse=False))\n",
    "        ])\n",
    "\n",
    "    def pipelines(self):\n",
    "        \"\"\"\n",
    "        Public method to apply the preprocessing pipelines to the data frame.\n",
    "\n",
    "        Returns:\n",
    "            pd.DataFrame: The preprocessed data frame with both numerical and categorical features.\n",
    "        \"\"\"\n",
    "        try:\n",
    "            # Separate numerical and categorical columns\n",
    "            num_cols = self.df.select_dtypes(include=['int64', 'float64']).columns\n",
    "            cat_cols = self.df.select_dtypes(include=['object', 'category']).columns\n",
    "            \n",
    "            logging.info(f\"Numerical columns: {list(num_cols)}\")\n",
    "            logging.info(f\"Categorical columns: {list(cat_cols)}\")\n",
    "\n",
    "            # Build pipelines for numeric and categorical data\n",
    "            num_pipeline = self._build_num_pipeline()\n",
    "            cat_pipeline = self._build_cat_pipeline()\n",
    "\n",
    "            # Apply pipelines to numerical and categorical columns\n",
    "            logging.info(\"Preprocessing numerical columns.\")\n",
    "            df_num_preprocessed = num_pipeline.fit_transform(self.df[num_cols])\n",
    "\n",
    "            logging.info(\"Preprocessing categorical columns.\")\n",
    "            df_cat_preprocessed = cat_pipeline.fit_transform(self.df[cat_cols])\n",
    "\n",
    "            # Convert numpy arrays to dataframes\n",
    "            df_num_preprocessed = pd.DataFrame(df_num_preprocessed, columns=num_cols)\n",
    "            df_cat_preprocessed = pd.DataFrame(df_cat_preprocessed, \n",
    "                                               columns=cat_pipeline.named_steps['encoder'].get_feature_names_out(cat_cols))\n",
    "\n",
    "            # Concatenate preprocessed data\n",
    "            logging.info(\"Concatenating preprocessed numerical and categorical data.\")\n",
    "            X_preprocessed = pd.concat([df_num_preprocessed, df_cat_preprocessed], axis=1)\n",
    "\n",
    "            return X_preprocessed\n",
    "        \n",
    "        except NotFittedError as e:\n",
    "            logging.error(f\"Pipeline fitting error: {str(e)}\")\n",
    "            raise\n",
    "        except Exception as e:\n",
    "            logging.error(f\"An error occurred during preprocessing: {str(e)}\")\n",
    "            raise\n",
    "\n",
    "def load_data(file_path):\n",
    "    \"\"\"\n",
    "    Loads data from a CSV file into a Pandas DataFrame.\n",
    "\n",
    "    Args:\n",
    "        file_path (str): The path to the CSV file.\n",
    "\n",
    "    Returns:\n",
    "        pd.DataFrame: The loaded data frame.\n",
    "    \"\"\"\n",
    "    try:\n",
    "        logging.info(f\"Loading data from {file_path}\")\n",
    "        return pd.read_csv(file_path)\n",
    "    except FileNotFoundError as e:\n",
    "        logging.error(f\"File not found: {str(e)}\")\n",
    "        raise\n",
    "    except pd.errors.EmptyDataError as e:\n",
    "        logging.error(f\"Empty file: {str(e)}\")\n",
    "        raise\n",
    "    except Exception as e:\n",
    "        logging.error(f\"Error loading data: {str(e)}\")\n",
    "        raise\n",
    "\n",
    "if __name__ == \"__main__\":\n",
    "    data_file = \"C:/InhouseInternship/majorproject7/Test set.csv\"  \n",
    "    df = load_data(data_file)\n",
    "    imputer = Imputations(df)\n",
    "    X_preprocessed = imputer.pipelines()\n",
    "    \n"
   ]
  },
  {
   "cell_type": "code",
   "execution_count": 6,
   "metadata": {},
   "outputs": [
    {
     "data": {
      "text/html": [
       "<div>\n",
       "<style scoped>\n",
       "    .dataframe tbody tr th:only-of-type {\n",
       "        vertical-align: middle;\n",
       "    }\n",
       "\n",
       "    .dataframe tbody tr th {\n",
       "        vertical-align: top;\n",
       "    }\n",
       "\n",
       "    .dataframe thead th {\n",
       "        text-align: right;\n",
       "    }\n",
       "</style>\n",
       "<table border=\"1\" class=\"dataframe\">\n",
       "  <thead>\n",
       "    <tr style=\"text-align: right;\">\n",
       "      <th></th>\n",
       "      <th>Height</th>\n",
       "      <th>Weight</th>\n",
       "      <th>Sex_Female</th>\n",
       "      <th>Sex_Male</th>\n",
       "    </tr>\n",
       "  </thead>\n",
       "  <tbody>\n",
       "    <tr>\n",
       "      <th>0</th>\n",
       "      <td>-0.961470</td>\n",
       "      <td>-0.652590</td>\n",
       "      <td>1.0</td>\n",
       "      <td>0.0</td>\n",
       "    </tr>\n",
       "    <tr>\n",
       "      <th>1</th>\n",
       "      <td>0.979338</td>\n",
       "      <td>0.514544</td>\n",
       "      <td>0.0</td>\n",
       "      <td>1.0</td>\n",
       "    </tr>\n",
       "    <tr>\n",
       "      <th>2</th>\n",
       "      <td>1.476282</td>\n",
       "      <td>0.142951</td>\n",
       "      <td>0.0</td>\n",
       "      <td>1.0</td>\n",
       "    </tr>\n",
       "    <tr>\n",
       "      <th>3</th>\n",
       "      <td>1.544281</td>\n",
       "      <td>0.493948</td>\n",
       "      <td>0.0</td>\n",
       "      <td>1.0</td>\n",
       "    </tr>\n",
       "    <tr>\n",
       "      <th>4</th>\n",
       "      <td>-1.887926</td>\n",
       "      <td>-0.955519</td>\n",
       "      <td>1.0</td>\n",
       "      <td>0.0</td>\n",
       "    </tr>\n",
       "  </tbody>\n",
       "</table>\n",
       "</div>"
      ],
      "text/plain": [
       "     Height    Weight  Sex_Female  Sex_Male\n",
       "0 -0.961470 -0.652590         1.0       0.0\n",
       "1  0.979338  0.514544         0.0       1.0\n",
       "2  1.476282  0.142951         0.0       1.0\n",
       "3  1.544281  0.493948         0.0       1.0\n",
       "4 -1.887926 -0.955519         1.0       0.0"
      ]
     },
     "execution_count": 6,
     "metadata": {},
     "output_type": "execute_result"
    }
   ],
   "source": [
    "X_preprocessed.head()"
   ]
  },
  {
   "cell_type": "markdown",
   "metadata": {},
   "source": [
    "# Counting the number of occurences, descriptive stats,  and summary statistics , info"
   ]
  },
  {
   "cell_type": "code",
   "execution_count": 7,
   "metadata": {},
   "outputs": [
    {
     "data": {
      "text/html": [
       "<div>\n",
       "<style scoped>\n",
       "    .dataframe tbody tr th:only-of-type {\n",
       "        vertical-align: middle;\n",
       "    }\n",
       "\n",
       "    .dataframe tbody tr th {\n",
       "        vertical-align: top;\n",
       "    }\n",
       "\n",
       "    .dataframe thead th {\n",
       "        text-align: right;\n",
       "    }\n",
       "</style>\n",
       "<table border=\"1\" class=\"dataframe\">\n",
       "  <thead>\n",
       "    <tr style=\"text-align: right;\">\n",
       "      <th></th>\n",
       "      <th>Sex</th>\n",
       "      <th>Total_Count</th>\n",
       "    </tr>\n",
       "  </thead>\n",
       "  <tbody>\n",
       "    <tr>\n",
       "      <th>1</th>\n",
       "      <td>Male</td>\n",
       "      <td>106</td>\n",
       "    </tr>\n",
       "    <tr>\n",
       "      <th>0</th>\n",
       "      <td>Female</td>\n",
       "      <td>99</td>\n",
       "    </tr>\n",
       "  </tbody>\n",
       "</table>\n",
       "</div>"
      ],
      "text/plain": [
       "      Sex  Total_Count\n",
       "1    Male          106\n",
       "0  Female           99"
      ]
     },
     "execution_count": 7,
     "metadata": {},
     "output_type": "execute_result"
    }
   ],
   "source": [
    "import pandas as pd\n",
    "\n",
    "class Count_M_F:\n",
    "    def __init__(self, df):\n",
    "        self.df = df\n",
    "\n",
    "    def Count_Num(self):\n",
    "        # Grouping by 'Sex' and counting the number of occurrences\n",
    "        return (self.df.groupby('Sex')\n",
    "                    .agg(Total_Count=(\"Sex\", \"count\"))\n",
    "                    .reset_index()\n",
    "                    .sort_values(by='Total_Count', ascending=False))\n",
    "     \n",
    "    def Find_Min_Max(self):\n",
    "          # Finding descriptive stats\n",
    "          return self.df.describe()\n",
    "     \n",
    "    def Info(self):\n",
    "         return self.df.info(), self.df.shape ,  self.df.head()\n",
    "\n",
    "     \n",
    "data_file = \"C:/InhouseInternship/majorproject7/Test set.csv\"\n",
    "df = pd.read_csv(data_file)\n",
    "counts = Count_M_F(df)\n",
    "counts.Count_Num()"
   ]
  },
  {
   "cell_type": "code",
   "execution_count": 8,
   "metadata": {},
   "outputs": [
    {
     "data": {
      "text/html": [
       "<div>\n",
       "<style scoped>\n",
       "    .dataframe tbody tr th:only-of-type {\n",
       "        vertical-align: middle;\n",
       "    }\n",
       "\n",
       "    .dataframe tbody tr th {\n",
       "        vertical-align: top;\n",
       "    }\n",
       "\n",
       "    .dataframe thead th {\n",
       "        text-align: right;\n",
       "    }\n",
       "</style>\n",
       "<table border=\"1\" class=\"dataframe\">\n",
       "  <thead>\n",
       "    <tr style=\"text-align: right;\">\n",
       "      <th></th>\n",
       "      <th>Height</th>\n",
       "      <th>Weight</th>\n",
       "    </tr>\n",
       "  </thead>\n",
       "  <tbody>\n",
       "    <tr>\n",
       "      <th>count</th>\n",
       "      <td>205.000000</td>\n",
       "      <td>205.000000</td>\n",
       "    </tr>\n",
       "    <tr>\n",
       "      <th>mean</th>\n",
       "      <td>160.874125</td>\n",
       "      <td>69.927028</td>\n",
       "    </tr>\n",
       "    <tr>\n",
       "      <th>std</th>\n",
       "      <td>15.171040</td>\n",
       "      <td>15.462396</td>\n",
       "    </tr>\n",
       "    <tr>\n",
       "      <th>min</th>\n",
       "      <td>123.007006</td>\n",
       "      <td>34.726666</td>\n",
       "    </tr>\n",
       "    <tr>\n",
       "      <th>25%</th>\n",
       "      <td>148.942667</td>\n",
       "      <td>58.583137</td>\n",
       "    </tr>\n",
       "    <tr>\n",
       "      <th>50%</th>\n",
       "      <td>161.749388</td>\n",
       "      <td>69.544469</td>\n",
       "    </tr>\n",
       "    <tr>\n",
       "      <th>75%</th>\n",
       "      <td>172.608090</td>\n",
       "      <td>77.964667</td>\n",
       "    </tr>\n",
       "    <tr>\n",
       "      <th>max</th>\n",
       "      <td>199.282251</td>\n",
       "      <td>129.410122</td>\n",
       "    </tr>\n",
       "  </tbody>\n",
       "</table>\n",
       "</div>"
      ],
      "text/plain": [
       "           Height      Weight\n",
       "count  205.000000  205.000000\n",
       "mean   160.874125   69.927028\n",
       "std     15.171040   15.462396\n",
       "min    123.007006   34.726666\n",
       "25%    148.942667   58.583137\n",
       "50%    161.749388   69.544469\n",
       "75%    172.608090   77.964667\n",
       "max    199.282251  129.410122"
      ]
     },
     "execution_count": 8,
     "metadata": {},
     "output_type": "execute_result"
    }
   ],
   "source": [
    "counts.Find_Min_Max()"
   ]
  },
  {
   "cell_type": "code",
   "execution_count": 9,
   "metadata": {},
   "outputs": [
    {
     "name": "stdout",
     "output_type": "stream",
     "text": [
      "<class 'pandas.core.frame.DataFrame'>\n",
      "RangeIndex: 205 entries, 0 to 204\n",
      "Data columns (total 3 columns):\n",
      " #   Column  Non-Null Count  Dtype  \n",
      "---  ------  --------------  -----  \n",
      " 0   Height  205 non-null    float64\n",
      " 1   Weight  205 non-null    float64\n",
      " 2   Sex     205 non-null    object \n",
      "dtypes: float64(2), object(1)\n",
      "memory usage: 4.9+ KB\n"
     ]
    },
    {
     "data": {
      "text/plain": [
       "(None,\n",
       " (205, 3),\n",
       "        Height     Weight     Sex\n",
       " 0  146.323241  59.861065  Female\n",
       " 1  175.695412  77.863687    Male\n",
       " 2  183.216164  72.131992    Male\n",
       " 3  184.245269  77.546000    Male\n",
       " 4  132.302261  55.188496  Female)"
      ]
     },
     "execution_count": 9,
     "metadata": {},
     "output_type": "execute_result"
    }
   ],
   "source": [
    "counts.Info()"
   ]
  },
  {
   "cell_type": "markdown",
   "metadata": {},
   "source": [
    "# Frequency count of Male and Female"
   ]
  },
  {
   "cell_type": "code",
   "execution_count": 10,
   "metadata": {},
   "outputs": [
    {
     "data": {
      "image/png": "[encoded data removed]",
      "text/plain": [
       "<Figure size 720x432 with 1 Axes>"
      ]
     },
     "metadata": {
      "needs_background": "light"
     },
     "output_type": "display_data"
    }
   ],
   "source": [
    "class Occurrence:\n",
    "     \n",
    "     def __init__(self, df):\n",
    "          self.df = df\n",
    "          \n",
    "     def Count_Plot(self):\n",
    "          \"\"\"\n",
    "          Generate  a bar plot of the count of each unique value in a column.\n",
    "          \"\"\"\n",
    "\n",
    "          import matplotlib.pyplot as plt\n",
    "          import seaborn as sns\n",
    "          plt.figure(figsize=(10, 6))\n",
    "          sns.countplot(x = 'Sex', data = self.df)\n",
    "          plt.title(\"Count of Male and Female\",  fontsize = 20)\n",
    "          plt.xlabel(\"Sex\", fontsize=14)\n",
    "          plt.ylabel(\"Count\", fontsize=14)\n",
    "          plt.show()\n",
    "          \n",
    "data_file = \"C:/InhouseInternship/majorproject7/Test set.csv\"\n",
    "df = pd.read_csv(data_file)\n",
    "sol = Occurrence(df)\n",
    "sol.Count_Plot()\n"
   ]
  },
  {
   "cell_type": "markdown",
   "metadata": {},
   "source": [
    "# Frequency Count with dark background"
   ]
  },
  {
   "cell_type": "code",
   "execution_count": 11,
   "metadata": {},
   "outputs": [
    {
     "data": {
      "image/png": "[encoded data removed]",
      "text/plain": [
       "<Figure size 720x432 with 1 Axes>"
      ]
     },
     "metadata": {},
     "output_type": "display_data"
    }
   ],
   "source": [
    "import pandas as pd\n",
    "import matplotlib.pyplot as plt\n",
    "import seaborn as sns\n",
    "\n",
    "class Occurrence:\n",
    "    def __init__(self, df):\n",
    "        self.df = df\n",
    "\n",
    "    def Count_Plot(self):\n",
    "        \"\"\"\n",
    "        Generate a bar plot of the count of each unique value in the 'Sex' column.\n",
    "        \"\"\"\n",
    "        # Set the Seaborn style to dark and adjust other settings\n",
    "        sns.set(style=\"darkgrid\")\n",
    "        plt.figure(figsize=(10, 6))\n",
    "\n",
    "        # Create the count plot\n",
    "        sns.countplot(x='Sex', data=self.df, palette=\"coolwarm\")\n",
    "\n",
    "        # Set dark background color for both figure and axes\n",
    "        plt.gca().set_facecolor('black')\n",
    "        plt.gcf().set_facecolor('black')\n",
    "\n",
    "        # Titles and labels with white text color for better visibility\n",
    "        plt.title(\"Count of Male and Female\", fontsize=20, color='white')\n",
    "        plt.xlabel(\"Sex\", fontsize=14, color='white')\n",
    "        plt.ylabel(\"Count\", fontsize=14, color='white')\n",
    "\n",
    "        # Change tick label colors to white for dark background\n",
    "        plt.xticks(color='white')\n",
    "        plt.yticks(color='white')\n",
    "\n",
    "        plt.show()\n",
    "\n",
    "\n",
    "data_file = \"C:/InhouseInternship/majorproject7/Test set.csv\"\n",
    "df = pd.read_csv(data_file)\n",
    "sol = Occurrence(df)\n",
    "sol.Count_Plot()\n"
   ]
  },
  {
   "cell_type": "code",
   "execution_count": 12,
   "metadata": {},
   "outputs": [
    {
     "data": {
      "image/png": "[encoded data removed]",
      "text/plain": [
       "<Figure size 360x360 with 1 Axes>"
      ]
     },
     "metadata": {},
     "output_type": "display_data"
    }
   ],
   "source": [
    "import pandas as pd\n",
    "import matplotlib.pyplot as plt\n",
    "\n",
    "class DonutChartGenerator:\n",
    "    def __init__(self, data):\n",
    "        self.data = data\n",
    "\n",
    "    def generate_donut_chart(self, column_name):\n",
    "        # Group the data by the column and get the value counts\n",
    "        value_counts = self.data[column_name].value_counts()\n",
    "\n",
    "        # Plot the donut chart with larger size and label adjustments\n",
    "        fig, ax = plt.subplots(figsize=(5, 5))  # Increase figure size\n",
    "        wedges, texts, autotexts = ax.pie(\n",
    "            value_counts, \n",
    "            labels=value_counts.index, \n",
    "            autopct='%1.1f%%', \n",
    "            startangle=90, \n",
    "            wedgeprops=dict(width=1),  # Increase wedge width\n",
    "            textprops=dict(color=\"white\", fontsize=12)  # Adjust text size and color\n",
    "        )\n",
    "\n",
    "        # Spread the labels further out to avoid overlap\n",
    "        for text in texts:\n",
    "            text.set_fontsize(12)  # Adjust the label font size\n",
    "            text.set_fontweight('bold')  # Set labels bold\n",
    "            text.set_color('white')  # Label color set to white\n",
    "        \n",
    "        for autotext in autotexts:\n",
    "            autotext.set_color('black')  # Change percentage text color to black for better readability\n",
    "            autotext.set_fontsize(12)  # Adjust percentage font size\n",
    "            autotext.set_fontweight('bold')  # Set percentage bold\n",
    "\n",
    "        # Add a circle at the center to make it a donut chart\n",
    "        centre_circle = plt.Circle((0, 0), 0.65, color='black', fc='white', linewidth=1.25)\n",
    "        fig.gca().add_artist(centre_circle)\n",
    "\n",
    "        # Equal aspect ratio ensures that the pie is drawn as a circle\n",
    "        ax.axis('equal')  \n",
    "        plt.title(f'Donut Chart for {column_name}', fontsize=18, weight='bold', color='white')\n",
    "        fig.patch.set_facecolor('black')  # Set figure background to black\n",
    "        ax.set_facecolor('black')  # Set axis background to black\n",
    "        plt.tight_layout()\n",
    "        plt.show()\n",
    "\n",
    "    def plot_inventory_donut(self):\n",
    "        self.generate_donut_chart('Sex')\n",
    "\n",
    "   \n",
    "\n",
    "\n",
    "\n",
    "data = pd.read_csv(\"C:/InhouseInternship/majorproject7/Test set.csv\" )\n",
    "\n",
    "# Create an instance of the class and plot the donut charts\n",
    "donut_chart = DonutChartGenerator(data)\n",
    "donut_chart.plot_inventory_donut()\n"
   ]
  },
  {
   "cell_type": "markdown",
   "metadata": {},
   "source": [
    "# Find the z-score and gaussian distribution"
   ]
  },
  {
   "cell_type": "code",
   "execution_count": 13,
   "metadata": {},
   "outputs": [
    {
     "name": "stdout",
     "output_type": "stream",
     "text": [
      "mean is :\n"
     ]
    },
    {
     "data": {
      "text/plain": [
       "Height    160.874125\n",
       "Weight     69.927028\n",
       "dtype: float64"
      ]
     },
     "execution_count": 13,
     "metadata": {},
     "output_type": "execute_result"
    }
   ],
   "source": [
    "class Stats:\n",
    "     \n",
    "     def __init__(self, df):\n",
    "          self.df = df\n",
    "          \n",
    "     def  calculate_mean(self):\n",
    "          return self.df.mean()\n",
    "     \n",
    "     def calculate_std(self):\n",
    "          return self.df.std()\n",
    "     \n",
    "     def z_score(self):\n",
    "          return (self.df - self.calculate_mean()) / self.calculate_std()\n",
    "     \n",
    "import warnings \n",
    "warnings.filterwarnings('ignore')    \n",
    "data_file = \"C:/InhouseInternship/majorproject7/Test set.csv\"\n",
    "df = pd.read_csv(data_file)\n",
    "\n",
    "# Create an instance of the class and call the method\n",
    "counter = Stats(df)\n",
    "print(\"mean is :\")\n",
    "counter.calculate_mean()\n"
   ]
  },
  {
   "cell_type": "code",
   "execution_count": 14,
   "metadata": {},
   "outputs": [
    {
     "name": "stdout",
     "output_type": "stream",
     "text": [
      "Standard deviation is :\n"
     ]
    },
    {
     "data": {
      "text/plain": [
       "Height    15.171040\n",
       "Weight    15.462396\n",
       "dtype: float64"
      ]
     },
     "execution_count": 14,
     "metadata": {},
     "output_type": "execute_result"
    }
   ],
   "source": [
    "print(\"Standard deviation is :\")\n",
    "counter.calculate_std()"
   ]
  },
  {
   "cell_type": "code",
   "execution_count": 15,
   "metadata": {},
   "outputs": [
    {
     "name": "stdout",
     "output_type": "stream",
     "text": [
      "Z-Score is :\n"
     ]
    },
    {
     "data": {
      "text/html": [
       "<div>\n",
       "<style scoped>\n",
       "    .dataframe tbody tr th:only-of-type {\n",
       "        vertical-align: middle;\n",
       "    }\n",
       "\n",
       "    .dataframe tbody tr th {\n",
       "        vertical-align: top;\n",
       "    }\n",
       "\n",
       "    .dataframe thead th {\n",
       "        text-align: right;\n",
       "    }\n",
       "</style>\n",
       "<table border=\"1\" class=\"dataframe\">\n",
       "  <thead>\n",
       "    <tr style=\"text-align: right;\">\n",
       "      <th></th>\n",
       "      <th>Height</th>\n",
       "      <th>Sex</th>\n",
       "      <th>Weight</th>\n",
       "    </tr>\n",
       "  </thead>\n",
       "  <tbody>\n",
       "    <tr>\n",
       "      <th>0</th>\n",
       "      <td>-0.959122</td>\n",
       "      <td>NaN</td>\n",
       "      <td>-0.650996</td>\n",
       "    </tr>\n",
       "    <tr>\n",
       "      <th>1</th>\n",
       "      <td>0.976946</td>\n",
       "      <td>NaN</td>\n",
       "      <td>0.513288</td>\n",
       "    </tr>\n",
       "    <tr>\n",
       "      <th>2</th>\n",
       "      <td>1.472677</td>\n",
       "      <td>NaN</td>\n",
       "      <td>0.142602</td>\n",
       "    </tr>\n",
       "    <tr>\n",
       "      <th>3</th>\n",
       "      <td>1.540510</td>\n",
       "      <td>NaN</td>\n",
       "      <td>0.492742</td>\n",
       "    </tr>\n",
       "    <tr>\n",
       "      <th>4</th>\n",
       "      <td>-1.883316</td>\n",
       "      <td>NaN</td>\n",
       "      <td>-0.953186</td>\n",
       "    </tr>\n",
       "    <tr>\n",
       "      <th>...</th>\n",
       "      <td>...</td>\n",
       "      <td>...</td>\n",
       "      <td>...</td>\n",
       "    </tr>\n",
       "    <tr>\n",
       "      <th>200</th>\n",
       "      <td>-0.381240</td>\n",
       "      <td>NaN</td>\n",
       "      <td>0.473528</td>\n",
       "    </tr>\n",
       "    <tr>\n",
       "      <th>201</th>\n",
       "      <td>-0.771089</td>\n",
       "      <td>NaN</td>\n",
       "      <td>1.507183</td>\n",
       "    </tr>\n",
       "    <tr>\n",
       "      <th>202</th>\n",
       "      <td>0.471738</td>\n",
       "      <td>NaN</td>\n",
       "      <td>-0.406561</td>\n",
       "    </tr>\n",
       "    <tr>\n",
       "      <th>203</th>\n",
       "      <td>0.773445</td>\n",
       "      <td>NaN</td>\n",
       "      <td>-0.953089</td>\n",
       "    </tr>\n",
       "    <tr>\n",
       "      <th>204</th>\n",
       "      <td>-1.040930</td>\n",
       "      <td>NaN</td>\n",
       "      <td>-1.574384</td>\n",
       "    </tr>\n",
       "  </tbody>\n",
       "</table>\n",
       "<p>205 rows × 3 columns</p>\n",
       "</div>"
      ],
      "text/plain": [
       "       Height  Sex    Weight\n",
       "0   -0.959122  NaN -0.650996\n",
       "1    0.976946  NaN  0.513288\n",
       "2    1.472677  NaN  0.142602\n",
       "3    1.540510  NaN  0.492742\n",
       "4   -1.883316  NaN -0.953186\n",
       "..        ...  ...       ...\n",
       "200 -0.381240  NaN  0.473528\n",
       "201 -0.771089  NaN  1.507183\n",
       "202  0.471738  NaN -0.406561\n",
       "203  0.773445  NaN -0.953089\n",
       "204 -1.040930  NaN -1.574384\n",
       "\n",
       "[205 rows x 3 columns]"
      ]
     },
     "execution_count": 15,
     "metadata": {},
     "output_type": "execute_result"
    }
   ],
   "source": [
    "print(\"Z-Score is :\")\n",
    "counter.z_score()"
   ]
  },
  {
   "cell_type": "markdown",
   "metadata": {},
   "source": [
    "# Plot the weight column "
   ]
  },
  {
   "cell_type": "code",
   "execution_count": 16,
   "metadata": {},
   "outputs": [
    {
     "data": {
      "image/png": "[encoded data removed]",
      "text/plain": [
       "<Figure size 720x432 with 1 Axes>"
      ]
     },
     "metadata": {},
     "output_type": "display_data"
    }
   ],
   "source": [
    "import numpy as np\n",
    "import matplotlib.pyplot as plt\n",
    "import seaborn as sns\n",
    "import pandas as pd\n",
    "\n",
    "class WeightDistributionPlotter:\n",
    "    def __init__(self, data_file, column):\n",
    "        self.data_file = data_file\n",
    "        self.column = column\n",
    "        self.data = self.load_data()\n",
    "\n",
    "    def load_data(self):\n",
    "        \"\"\"\n",
    "        Load the dataset and extract the specified column.\n",
    "        \"\"\"\n",
    "        df = pd.read_csv(self.data_file)\n",
    "        return df[self.column].dropna()\n",
    "\n",
    "\n",
    "\n",
    "    def plot_distribution(self):\n",
    "        \"\"\"\n",
    "        Plot the distribution of the specified column with a dark background.\n",
    "        \"\"\"\n",
    "        sns.set(style=\"darkgrid\")\n",
    "        plt.figure(figsize=(10, 6))\n",
    "\n",
    "\n",
    "        # Plot the histogram with a density curve\n",
    "        sns.histplot(self.data,\n",
    "                     bins=30, \n",
    "                     kde=True,\n",
    "                     color='skyblue',\n",
    "                     stat=\"density\"\n",
    "                     )\n",
    "\n",
    "\n",
    "        # Set the background to black\n",
    "        plt.gca().set_facecolor('black')\n",
    "        plt.gcf().set_facecolor('black')\n",
    "\n",
    "\n",
    "        # Customize the title and labels with white color\n",
    "        plt.title(\n",
    "             f\"{self.column} Distribution\",\n",
    "             fontsize=16, color='white'\n",
    "             )\n",
    "        \n",
    "        plt.xlabel(\n",
    "             self.column,\n",
    "             fontsize=14, \n",
    "             color='white'\n",
    "             )\n",
    "        \n",
    "        \n",
    "        plt.ylabel(\n",
    "             \"Density\",\n",
    "             fontsize=14,\n",
    "             color='white'\n",
    "             )\n",
    "\n",
    "        \n",
    "        # Customize the ticks with white color\n",
    "        plt.xticks(color='white')\n",
    "        plt.yticks(color='white')\n",
    "\n",
    "        # Display the plot\n",
    "        plt.tight_layout()\n",
    "        plt.show()\n",
    "\n",
    "\n",
    "data_file = r\"C:\\InhouseInternship\\majorproject7\\Test set.csv\"\n",
    "column = 'Weight'\n",
    "plotter = WeightDistributionPlotter(data_file, column)\n",
    "plotter.plot_distribution()\n"
   ]
  },
  {
   "cell_type": "markdown",
   "metadata": {},
   "source": [
    "# Plot the Height column"
   ]
  },
  {
   "cell_type": "code",
   "execution_count": 17,
   "metadata": {},
   "outputs": [
    {
     "data": {
      "image/png": "[encoded data removed]",
      "text/plain": [
       "<Figure size 720x432 with 1 Axes>"
      ]
     },
     "metadata": {},
     "output_type": "display_data"
    }
   ],
   "source": [
    "import numpy as np\n",
    "import matplotlib.pyplot as plt\n",
    "import seaborn as sns\n",
    "import pandas as pd\n",
    "\n",
    "class WeightDistributionPlotter:\n",
    "    def __init__(self, data_file, column):\n",
    "        self.data_file = data_file\n",
    "        self.column = column\n",
    "        self.data = self.load_data()\n",
    "\n",
    "    def load_data(self):\n",
    "        \"\"\"\n",
    "        Load the dataset and extract the specified column.\n",
    "        \"\"\"\n",
    "        df = pd.read_csv(self.data_file)\n",
    "        return df[self.column].dropna()\n",
    "\n",
    "\n",
    "\n",
    "    def plot_distribution(self):\n",
    "        \"\"\"\n",
    "        Plot the distribution of the specified column with a dark background.\n",
    "        \"\"\"\n",
    "        sns.set(style=\"darkgrid\")\n",
    "        plt.figure(figsize=(10, 6))\n",
    "\n",
    "\n",
    "        # Plot the histogram with a density curve\n",
    "        sns.histplot(self.data,\n",
    "                     bins=30, \n",
    "                     kde=True,\n",
    "                     color='skyblue',\n",
    "                     stat=\"density\"\n",
    "                     )\n",
    "\n",
    "\n",
    "        # Set the background to black\n",
    "        plt.gca().set_facecolor('black')\n",
    "        plt.gcf().set_facecolor('black')\n",
    "\n",
    "\n",
    "        # Customize the title and labels with white color\n",
    "        plt.title(\n",
    "             f\"{self.column} Distribution\",\n",
    "             fontsize=16, color='white'\n",
    "             )\n",
    "        \n",
    "        plt.xlabel(\n",
    "             self.column,\n",
    "             fontsize=14, \n",
    "             color='white'\n",
    "             )\n",
    "        \n",
    "        \n",
    "        plt.ylabel(\n",
    "             \"Density\",\n",
    "             fontsize=14,\n",
    "             color='white'\n",
    "             )\n",
    "\n",
    "        \n",
    "        # Customize the ticks with white color\n",
    "        plt.xticks(color='white')\n",
    "        plt.yticks(color='white')\n",
    "\n",
    "        # Display the plot\n",
    "        plt.tight_layout()\n",
    "        plt.show()\n",
    "\n",
    "\n",
    "data_file = r\"C:\\InhouseInternship\\majorproject7\\Test set.csv\"\n",
    "column = 'Height'\n",
    "plotter = WeightDistributionPlotter(data_file, column)\n",
    "plotter.plot_distribution()\n"
   ]
  },
  {
   "cell_type": "code",
   "execution_count": null,
   "metadata": {},
   "outputs": [],
   "source": []
  }
 ],
 "metadata": {
  "kernelspec": {
   "display_name": "Python 3",
   "language": "python",
   "name": "python3"
  },
  "language_info": {
   "codemirror_mode": {
    "name": "ipython",
    "version": 3
   },
   "file_extension": ".py",
   "mimetype": "text/x-python",
   "name": "python",
   "nbconvert_exporter": "python",
   "pygments_lexer": "ipython3",
   "version": "3.9.12"
  }
 },
 "nbformat": 4,
 "nbformat_minor": 2
}
